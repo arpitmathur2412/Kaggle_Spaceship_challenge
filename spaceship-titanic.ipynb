{
 "cells": [
  {
   "cell_type": "code",
   "execution_count": 1,
   "id": "3d396dd4",
   "metadata": {
    "_cell_guid": "b1076dfc-b9ad-4769-8c92-a6c4dae69d19",
    "_uuid": "8f2839f25d086af736a60e9eeb907d3b93b6e0e5",
    "execution": {
     "iopub.execute_input": "2023-05-05T12:33:38.609358Z",
     "iopub.status.busy": "2023-05-05T12:33:38.608953Z",
     "iopub.status.idle": "2023-05-05T12:33:40.378749Z",
     "shell.execute_reply": "2023-05-05T12:33:40.377198Z"
    },
    "papermill": {
     "duration": 1.778603,
     "end_time": "2023-05-05T12:33:40.381282",
     "exception": false,
     "start_time": "2023-05-05T12:33:38.602679",
     "status": "completed"
    },
    "tags": []
   },
   "outputs": [
    {
     "name": "stderr",
     "output_type": "stream",
     "text": [
      "/opt/conda/lib/python3.10/site-packages/scipy/__init__.py:146: UserWarning: A NumPy version >=1.16.5 and <1.23.0 is required for this version of SciPy (detected version 1.23.5\n",
      "  warnings.warn(f\"A NumPy version >={np_minversion} and <{np_maxversion}\"\n"
     ]
    },
    {
     "name": "stdout",
     "output_type": "stream",
     "text": [
      "/kaggle/input/spaceship-titanic/sample_submission.csv\n",
      "/kaggle/input/spaceship-titanic/train.csv\n",
      "/kaggle/input/spaceship-titanic/test.csv\n"
     ]
    }
   ],
   "source": [
    "# This Python 3 environment comes with many helpful analytics libraries installed\n",
    "# It is defined by the kaggle/python Docker image: https://github.com/kaggle/docker-python\n",
    "# For example, here's several helpful packages to load\n",
    "\n",
    "import numpy as np # linear algebra\n",
    "import pandas as pd # data processing, CSV file I/O (e.g. pd.read_csv)\n",
    "from sklearn.linear_model import LogisticRegression\n",
    "from sklearn.model_selection import train_test_split\n",
    "from sklearn.metrics import accuracy_score\n",
    "from sklearn.impute import SimpleImputer\n",
    "# Input data files are available in the read-only \"../input/\" directory\n",
    "# For example, running this (by clicking run or pressing Shift+Enter) will list all files under the input directory\n",
    "\n",
    "import os\n",
    "for dirname, _, filenames in os.walk('/kaggle/input'):\n",
    "    for filename in filenames:\n",
    "        print(os.path.join(dirname, filename))\n",
    "\n",
    "# You can write up to 20GB to the current directory (/kaggle/working/) that gets preserved as output when you create a version using \"Save & Run All\" \n",
    "# You can also write temporary files to /kaggle/temp/, but they won't be saved outside of the current session"
   ]
  },
  {
   "cell_type": "code",
   "execution_count": 2,
   "id": "41d4f71e",
   "metadata": {
    "execution": {
     "iopub.execute_input": "2023-05-05T12:33:40.390857Z",
     "iopub.status.busy": "2023-05-05T12:33:40.390430Z",
     "iopub.status.idle": "2023-05-05T12:33:40.498629Z",
     "shell.execute_reply": "2023-05-05T12:33:40.496895Z"
    },
    "papermill": {
     "duration": 0.115884,
     "end_time": "2023-05-05T12:33:40.501354",
     "exception": false,
     "start_time": "2023-05-05T12:33:40.385470",
     "status": "completed"
    },
    "tags": []
   },
   "outputs": [],
   "source": [
    "train_data=pd.read_csv('/kaggle/input/spaceship-titanic/train.csv')\n",
    "test_data=pd.read_csv('/kaggle/input/spaceship-titanic/test.csv')"
   ]
  },
  {
   "cell_type": "code",
   "execution_count": 3,
   "id": "a0013c3c",
   "metadata": {
    "execution": {
     "iopub.execute_input": "2023-05-05T12:33:40.510941Z",
     "iopub.status.busy": "2023-05-05T12:33:40.509981Z",
     "iopub.status.idle": "2023-05-05T12:33:40.549411Z",
     "shell.execute_reply": "2023-05-05T12:33:40.547141Z"
    },
    "papermill": {
     "duration": 0.047472,
     "end_time": "2023-05-05T12:33:40.552500",
     "exception": false,
     "start_time": "2023-05-05T12:33:40.505028",
     "status": "completed"
    },
    "tags": []
   },
   "outputs": [],
   "source": [
    "train_df=pd.DataFrame(train_data)\n",
    "test_df=pd.DataFrame(test_data)\n",
    "\n",
    "X_train=train_df.drop(['ShoppingMall','FoodCourt','RoomService','Spa', 'Name','VRDeck','Cabin','Transported','PassengerId'],axis=1)\n",
    "X_train['Destination'].replace(['TRAPPIST-1e','PSO J318.5-22','55 Cancri e'], [0,1,2],inplace=True)\n",
    "X_train['HomePlanet'].replace(['Europa','Earth','Mars'],[0,1,2],inplace=True)\n",
    "y_train=train_df['Transported']\n",
    "X_train=X_train.astype({\"CryoSleep\":bool,\"VIP\":bool})"
   ]
  },
  {
   "cell_type": "code",
   "execution_count": 4,
   "id": "56b34484",
   "metadata": {
    "execution": {
     "iopub.execute_input": "2023-05-05T12:33:40.562676Z",
     "iopub.status.busy": "2023-05-05T12:33:40.561735Z",
     "iopub.status.idle": "2023-05-05T12:33:40.580090Z",
     "shell.execute_reply": "2023-05-05T12:33:40.578202Z"
    },
    "papermill": {
     "duration": 0.026418,
     "end_time": "2023-05-05T12:33:40.582613",
     "exception": false,
     "start_time": "2023-05-05T12:33:40.556195",
     "status": "completed"
    },
    "tags": []
   },
   "outputs": [
    {
     "name": "stdout",
     "output_type": "stream",
     "text": [
      "      HomePlanet  CryoSleep  Destination   Age    VIP\n",
      "0            0.0      False          0.0  39.0  False\n",
      "1            1.0      False          0.0  24.0  False\n",
      "2            0.0      False          0.0  58.0   True\n",
      "3            0.0      False          0.0  33.0  False\n",
      "4            1.0      False          0.0  16.0  False\n",
      "...          ...        ...          ...   ...    ...\n",
      "8688         0.0      False          2.0  41.0   True\n",
      "8689         1.0       True          1.0  18.0  False\n",
      "8690         1.0      False          0.0  26.0  False\n",
      "8691         0.0      False          2.0  32.0  False\n",
      "8692         0.0      False          0.0  44.0  False\n",
      "\n",
      "[8693 rows x 5 columns]\n",
      "0       False\n",
      "1        True\n",
      "2       False\n",
      "3       False\n",
      "4        True\n",
      "        ...  \n",
      "8688    False\n",
      "8689    False\n",
      "8690     True\n",
      "8691    False\n",
      "8692     True\n",
      "Name: Transported, Length: 8693, dtype: bool\n"
     ]
    }
   ],
   "source": [
    "print(X_train)\n",
    "print(y_train)"
   ]
  },
  {
   "cell_type": "code",
   "execution_count": 5,
   "id": "a2331bcc",
   "metadata": {
    "execution": {
     "iopub.execute_input": "2023-05-05T12:33:40.593992Z",
     "iopub.status.busy": "2023-05-05T12:33:40.593590Z",
     "iopub.status.idle": "2023-05-05T12:33:40.616215Z",
     "shell.execute_reply": "2023-05-05T12:33:40.614577Z"
    },
    "papermill": {
     "duration": 0.03175,
     "end_time": "2023-05-05T12:33:40.618661",
     "exception": false,
     "start_time": "2023-05-05T12:33:40.586911",
     "status": "completed"
    },
    "tags": []
   },
   "outputs": [
    {
     "name": "stdout",
     "output_type": "stream",
     "text": [
      "      HomePlanet  CryoSleep  Destination   Age    VIP\n",
      "0            1.0       True          0.0  27.0  False\n",
      "1            1.0      False          0.0  19.0  False\n",
      "2            0.0       True          2.0  31.0  False\n",
      "3            0.0      False          0.0  38.0  False\n",
      "4            1.0      False          0.0  20.0  False\n",
      "...          ...        ...          ...   ...    ...\n",
      "4272         1.0       True          0.0  34.0  False\n",
      "4273         1.0      False          0.0  42.0  False\n",
      "4274         2.0       True          2.0   NaN  False\n",
      "4275         0.0      False          NaN   NaN  False\n",
      "4276         1.0       True          1.0  43.0  False\n",
      "\n",
      "[4277 rows x 5 columns]\n"
     ]
    }
   ],
   "source": [
    "X_test=test_df.drop(['ShoppingMall','FoodCourt','RoomService','Spa', 'Name','VRDeck','Cabin','PassengerId'],axis=1)\n",
    "X_test['HomePlanet'].replace(['Europa','Earth','Mars'],[0,1,2],inplace=True)\n",
    "X_test['Destination'].replace(['TRAPPIST-1e','PSO J318.5-22','55 Cancri e'], [0,1,2],inplace=True)\n",
    "X_test=X_test.astype({\"CryoSleep\":bool,\"VIP\":bool})\n",
    "print(X_test)"
   ]
  },
  {
   "cell_type": "code",
   "execution_count": 6,
   "id": "c4d47097",
   "metadata": {
    "execution": {
     "iopub.execute_input": "2023-05-05T12:33:40.628364Z",
     "iopub.status.busy": "2023-05-05T12:33:40.627882Z",
     "iopub.status.idle": "2023-05-05T12:33:40.650787Z",
     "shell.execute_reply": "2023-05-05T12:33:40.649566Z"
    },
    "papermill": {
     "duration": 0.030918,
     "end_time": "2023-05-05T12:33:40.653449",
     "exception": false,
     "start_time": "2023-05-05T12:33:40.622531",
     "status": "completed"
    },
    "tags": []
   },
   "outputs": [],
   "source": [
    "my_imputer = SimpleImputer()\n",
    "X_train= my_imputer.fit_transform(X_train)\n",
    "X_test=my_imputer.fit_transform(X_test)"
   ]
  },
  {
   "cell_type": "code",
   "execution_count": 7,
   "id": "93c2cdc8",
   "metadata": {
    "execution": {
     "iopub.execute_input": "2023-05-05T12:33:40.663719Z",
     "iopub.status.busy": "2023-05-05T12:33:40.662711Z",
     "iopub.status.idle": "2023-05-05T12:33:40.755016Z",
     "shell.execute_reply": "2023-05-05T12:33:40.753897Z"
    },
    "papermill": {
     "duration": 0.102306,
     "end_time": "2023-05-05T12:33:40.759660",
     "exception": false,
     "start_time": "2023-05-05T12:33:40.657354",
     "status": "completed"
    },
    "tags": []
   },
   "outputs": [
    {
     "data": {
      "text/html": [
       "<style>#sk-container-id-1 {color: black;background-color: white;}#sk-container-id-1 pre{padding: 0;}#sk-container-id-1 div.sk-toggleable {background-color: white;}#sk-container-id-1 label.sk-toggleable__label {cursor: pointer;display: block;width: 100%;margin-bottom: 0;padding: 0.3em;box-sizing: border-box;text-align: center;}#sk-container-id-1 label.sk-toggleable__label-arrow:before {content: \"▸\";float: left;margin-right: 0.25em;color: #696969;}#sk-container-id-1 label.sk-toggleable__label-arrow:hover:before {color: black;}#sk-container-id-1 div.sk-estimator:hover label.sk-toggleable__label-arrow:before {color: black;}#sk-container-id-1 div.sk-toggleable__content {max-height: 0;max-width: 0;overflow: hidden;text-align: left;background-color: #f0f8ff;}#sk-container-id-1 div.sk-toggleable__content pre {margin: 0.2em;color: black;border-radius: 0.25em;background-color: #f0f8ff;}#sk-container-id-1 input.sk-toggleable__control:checked~div.sk-toggleable__content {max-height: 200px;max-width: 100%;overflow: auto;}#sk-container-id-1 input.sk-toggleable__control:checked~label.sk-toggleable__label-arrow:before {content: \"▾\";}#sk-container-id-1 div.sk-estimator input.sk-toggleable__control:checked~label.sk-toggleable__label {background-color: #d4ebff;}#sk-container-id-1 div.sk-label input.sk-toggleable__control:checked~label.sk-toggleable__label {background-color: #d4ebff;}#sk-container-id-1 input.sk-hidden--visually {border: 0;clip: rect(1px 1px 1px 1px);clip: rect(1px, 1px, 1px, 1px);height: 1px;margin: -1px;overflow: hidden;padding: 0;position: absolute;width: 1px;}#sk-container-id-1 div.sk-estimator {font-family: monospace;background-color: #f0f8ff;border: 1px dotted black;border-radius: 0.25em;box-sizing: border-box;margin-bottom: 0.5em;}#sk-container-id-1 div.sk-estimator:hover {background-color: #d4ebff;}#sk-container-id-1 div.sk-parallel-item::after {content: \"\";width: 100%;border-bottom: 1px solid gray;flex-grow: 1;}#sk-container-id-1 div.sk-label:hover label.sk-toggleable__label {background-color: #d4ebff;}#sk-container-id-1 div.sk-serial::before {content: \"\";position: absolute;border-left: 1px solid gray;box-sizing: border-box;top: 0;bottom: 0;left: 50%;z-index: 0;}#sk-container-id-1 div.sk-serial {display: flex;flex-direction: column;align-items: center;background-color: white;padding-right: 0.2em;padding-left: 0.2em;position: relative;}#sk-container-id-1 div.sk-item {position: relative;z-index: 1;}#sk-container-id-1 div.sk-parallel {display: flex;align-items: stretch;justify-content: center;background-color: white;position: relative;}#sk-container-id-1 div.sk-item::before, #sk-container-id-1 div.sk-parallel-item::before {content: \"\";position: absolute;border-left: 1px solid gray;box-sizing: border-box;top: 0;bottom: 0;left: 50%;z-index: -1;}#sk-container-id-1 div.sk-parallel-item {display: flex;flex-direction: column;z-index: 1;position: relative;background-color: white;}#sk-container-id-1 div.sk-parallel-item:first-child::after {align-self: flex-end;width: 50%;}#sk-container-id-1 div.sk-parallel-item:last-child::after {align-self: flex-start;width: 50%;}#sk-container-id-1 div.sk-parallel-item:only-child::after {width: 0;}#sk-container-id-1 div.sk-dashed-wrapped {border: 1px dashed gray;margin: 0 0.4em 0.5em 0.4em;box-sizing: border-box;padding-bottom: 0.4em;background-color: white;}#sk-container-id-1 div.sk-label label {font-family: monospace;font-weight: bold;display: inline-block;line-height: 1.2em;}#sk-container-id-1 div.sk-label-container {text-align: center;}#sk-container-id-1 div.sk-container {/* jupyter's `normalize.less` sets `[hidden] { display: none; }` but bootstrap.min.css set `[hidden] { display: none !important; }` so we also need the `!important` here to be able to override the default hidden behavior on the sphinx rendered scikit-learn.org. See: https://github.com/scikit-learn/scikit-learn/issues/21755 */display: inline-block !important;position: relative;}#sk-container-id-1 div.sk-text-repr-fallback {display: none;}</style><div id=\"sk-container-id-1\" class=\"sk-top-container\"><div class=\"sk-text-repr-fallback\"><pre>LogisticRegression()</pre><b>In a Jupyter environment, please rerun this cell to show the HTML representation or trust the notebook. <br />On GitHub, the HTML representation is unable to render, please try loading this page with nbviewer.org.</b></div><div class=\"sk-container\" hidden><div class=\"sk-item\"><div class=\"sk-estimator sk-toggleable\"><input class=\"sk-toggleable__control sk-hidden--visually\" id=\"sk-estimator-id-1\" type=\"checkbox\" checked><label for=\"sk-estimator-id-1\" class=\"sk-toggleable__label sk-toggleable__label-arrow\">LogisticRegression</label><div class=\"sk-toggleable__content\"><pre>LogisticRegression()</pre></div></div></div></div></div>"
      ],
      "text/plain": [
       "LogisticRegression()"
      ]
     },
     "execution_count": 7,
     "metadata": {},
     "output_type": "execute_result"
    }
   ],
   "source": [
    "logistic_model = LogisticRegression()\n",
    "logistic_model.fit(X_train, y_train)"
   ]
  },
  {
   "cell_type": "code",
   "execution_count": 8,
   "id": "098d1e2b",
   "metadata": {
    "execution": {
     "iopub.execute_input": "2023-05-05T12:33:40.782261Z",
     "iopub.status.busy": "2023-05-05T12:33:40.781584Z",
     "iopub.status.idle": "2023-05-05T12:33:40.796114Z",
     "shell.execute_reply": "2023-05-05T12:33:40.794754Z"
    },
    "papermill": {
     "duration": 0.030841,
     "end_time": "2023-05-05T12:33:40.800441",
     "exception": false,
     "start_time": "2023-05-05T12:33:40.769600",
     "status": "completed"
    },
    "tags": []
   },
   "outputs": [
    {
     "name": "stdout",
     "output_type": "stream",
     "text": [
      "[ True False  True ...  True False  True]\n"
     ]
    }
   ],
   "source": [
    "y_pred = logistic_model.predict(X_test)\n",
    "print(y_pred)"
   ]
  },
  {
   "cell_type": "code",
   "execution_count": 9,
   "id": "442e61af",
   "metadata": {
    "execution": {
     "iopub.execute_input": "2023-05-05T12:33:40.823172Z",
     "iopub.status.busy": "2023-05-05T12:33:40.822094Z",
     "iopub.status.idle": "2023-05-05T12:33:40.836802Z",
     "shell.execute_reply": "2023-05-05T12:33:40.835169Z"
    },
    "papermill": {
     "duration": 0.031748,
     "end_time": "2023-05-05T12:33:40.841932",
     "exception": false,
     "start_time": "2023-05-05T12:33:40.810184",
     "status": "completed"
    },
    "tags": []
   },
   "outputs": [
    {
     "name": "stdout",
     "output_type": "stream",
     "text": [
      "     PassengerId\n",
      "0        0013_01\n",
      "1        0018_01\n",
      "2        0019_01\n",
      "3        0021_01\n",
      "4        0023_01\n",
      "...          ...\n",
      "4272     9266_02\n",
      "4273     9269_01\n",
      "4274     9271_01\n",
      "4275     9273_01\n",
      "4276     9277_01\n",
      "\n",
      "[4277 rows x 1 columns]\n"
     ]
    }
   ],
   "source": [
    "submission=test_df[[\"PassengerId\"]]\n",
    "print(submission)"
   ]
  },
  {
   "cell_type": "code",
   "execution_count": 10,
   "id": "c75c2613",
   "metadata": {
    "execution": {
     "iopub.execute_input": "2023-05-05T12:33:40.866317Z",
     "iopub.status.busy": "2023-05-05T12:33:40.865665Z",
     "iopub.status.idle": "2023-05-05T12:33:40.880522Z",
     "shell.execute_reply": "2023-05-05T12:33:40.879225Z"
    },
    "papermill": {
     "duration": 0.031966,
     "end_time": "2023-05-05T12:33:40.885435",
     "exception": false,
     "start_time": "2023-05-05T12:33:40.853469",
     "status": "completed"
    },
    "tags": []
   },
   "outputs": [
    {
     "name": "stdout",
     "output_type": "stream",
     "text": [
      "     PassengerId  Transported\n",
      "0        0013_01         True\n",
      "1        0018_01        False\n",
      "2        0019_01         True\n",
      "3        0021_01        False\n",
      "4        0023_01        False\n",
      "...          ...          ...\n",
      "4272     9266_02         True\n",
      "4273     9269_01        False\n",
      "4274     9271_01         True\n",
      "4275     9273_01        False\n",
      "4276     9277_01         True\n",
      "\n",
      "[4277 rows x 2 columns]\n"
     ]
    },
    {
     "name": "stderr",
     "output_type": "stream",
     "text": [
      "/tmp/ipykernel_20/644117842.py:1: SettingWithCopyWarning: \n",
      "A value is trying to be set on a copy of a slice from a DataFrame.\n",
      "Try using .loc[row_indexer,col_indexer] = value instead\n",
      "\n",
      "See the caveats in the documentation: https://pandas.pydata.org/pandas-docs/stable/user_guide/indexing.html#returning-a-view-versus-a-copy\n",
      "  submission[\"Transported\"]=y_pred\n"
     ]
    }
   ],
   "source": [
    "submission[\"Transported\"]=y_pred\n",
    "print(submission)"
   ]
  },
  {
   "cell_type": "code",
   "execution_count": 11,
   "id": "3ccb00b1",
   "metadata": {
    "execution": {
     "iopub.execute_input": "2023-05-05T12:33:40.910738Z",
     "iopub.status.busy": "2023-05-05T12:33:40.908943Z",
     "iopub.status.idle": "2023-05-05T12:33:40.927048Z",
     "shell.execute_reply": "2023-05-05T12:33:40.926122Z"
    },
    "papermill": {
     "duration": 0.033697,
     "end_time": "2023-05-05T12:33:40.929818",
     "exception": false,
     "start_time": "2023-05-05T12:33:40.896121",
     "status": "completed"
    },
    "tags": []
   },
   "outputs": [],
   "source": [
    "submission.to_csv(\"submission_3.csv\",index=None)"
   ]
  }
 ],
 "metadata": {
  "kernelspec": {
   "display_name": "Python 3",
   "language": "python",
   "name": "python3"
  },
  "language_info": {
   "codemirror_mode": {
    "name": "ipython",
    "version": 3
   },
   "file_extension": ".py",
   "mimetype": "text/x-python",
   "name": "python",
   "nbconvert_exporter": "python",
   "pygments_lexer": "ipython3",
   "version": "3.10.10"
  },
  "papermill": {
   "default_parameters": {},
   "duration": 14.991737,
   "end_time": "2023-05-05T12:33:42.057917",
   "environment_variables": {},
   "exception": null,
   "input_path": "__notebook__.ipynb",
   "output_path": "__notebook__.ipynb",
   "parameters": {},
   "start_time": "2023-05-05T12:33:27.066180",
   "version": "2.4.0"
  }
 },
 "nbformat": 4,
 "nbformat_minor": 5
}
